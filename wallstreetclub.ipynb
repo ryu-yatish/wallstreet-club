{
 "cells": [
  {
   "cell_type": "code",
   "execution_count": 156,
   "metadata": {},
   "outputs": [],
   "source": [
    "import random\n",
    "import numpy as np\n",
    "array = np.zeros(100)\n",
    "profit = np.zeros(100)\n",
    "for x in range(100):\n",
    "    array[x]=random.randint(1,6) + random.randint(1,6)\n",
    "    \n",
    "    \n",
    "  "
   ]
  },
  {
   "cell_type": "code",
   "execution_count": 157,
   "metadata": {},
   "outputs": [],
   "source": [
    "\n",
    "def earn(a, cp):\n",
    "    if(a<cp):\n",
    "        a = random.randint(1,6) + random.randint(1,6)\n",
    "        if(a==12):\n",
    "            return earn_12(cp)\n",
    "        else:\n",
    "            return a\n",
    "        \n",
    "    if(a>=cp):\n",
    "        if(a==12):\n",
    "            return earn_12(cp)\n",
    "        if(cp==6):\n",
    "            if(cp_6_chance(a)):\n",
    "                a = random.randint(1,6) + random.randint(1,6)\n",
    "                if(a==12):\n",
    "                    return earn_12(cp)\n",
    "                else:\n",
    "                    return a\n",
    "            else:\n",
    "                return a\n",
    "        if(cp==7):\n",
    "            if(cp_7_chance(a)):\n",
    "                a = random.randint(1,6) + random.randint(1,6)\n",
    "                if(a==12):\n",
    "                    return earn_12(cp)\n",
    "                else:\n",
    "                    return a\n",
    "            else:\n",
    "                return a\n",
    "        if(cp==8):\n",
    "            if(cp_8_chance(a)):\n",
    "                a = random.randint(1,6) + random.randint(1,6)\n",
    "                if(a==12):\n",
    "                    return earn_12(cp)\n",
    "                else:\n",
    "                    return a\n",
    "            else:\n",
    "                return a\n",
    "            \n",
    "    "
   ]
  },
  {
   "cell_type": "code",
   "execution_count": 158,
   "metadata": {},
   "outputs": [],
   "source": [
    "def cp_6_chance(argument): \n",
    "    switcher = { \n",
    "        2:100,\n",
    "        3:100,\n",
    "        4:100,\n",
    "        5:100,\n",
    "        6: 80, \n",
    "        7: 65, \n",
    "        8: 25,\n",
    "        9: 5,\n",
    "        10: 0,\n",
    "        11: 0, \n",
    "    }\n",
    "    chance=switcher.get(argument, 0)\n",
    "    k=random.randint(1,100)\n",
    "    if(k<=chance):\n",
    "        return True\n",
    "    else:\n",
    "        return False\n",
    "def cp_7_chance(argument): \n",
    "    switcher = { \n",
    "        2:100,\n",
    "        3:100,\n",
    "        4:100,\n",
    "        5:100,\n",
    "        6:100, \n",
    "        7: 70, \n",
    "        8: 45,\n",
    "        9: 15,\n",
    "        10: 2,\n",
    "        11: 0, \n",
    "    }\n",
    "    chance=switcher.get(argument, 0)\n",
    "    k=random.randint(1,100)\n",
    "    if(k<=chance):\n",
    "        return True\n",
    "    else:\n",
    "        return False\n",
    "def cp_8_chance(argument): \n",
    "    switcher = { \n",
    "        2:100,\n",
    "        3:100,\n",
    "        4:100,\n",
    "        5:100,\n",
    "        6:100, \n",
    "        7:90,\n",
    "        8: 60,\n",
    "        9: 20,\n",
    "        10: 3,\n",
    "        11: 0, \n",
    "    }\n",
    "    chance=switcher.get(argument, 0)\n",
    "    k=random.randint(1,100)\n",
    "    if(k<=chance):\n",
    "        return True\n",
    "    else:\n",
    "        return False\n",
    "def cp_6_b_chance(argument): \n",
    "    switcher = { \n",
    "        2:100,\n",
    "        3:100,\n",
    "        4:100,\n",
    "        5:100,\n",
    "        6: 90, \n",
    "        7: 75, \n",
    "        8: 30,\n",
    "        9: 12,\n",
    "        10: 3,\n",
    "        11: 0, \n",
    "    }\n",
    "    chance=switcher.get(argument, 0)\n",
    "    k=random.randint(1,100)\n",
    "    if(k<=chance):\n",
    "        return True\n",
    "    else:\n",
    "        return False\n",
    "def cp_7_b_chance(argument): \n",
    "    switcher = { \n",
    "        2:100,\n",
    "        3:100,\n",
    "        4:100,\n",
    "        5:100,\n",
    "        6:100,\n",
    "        7: 80, \n",
    "        8: 50,\n",
    "        9: 20,\n",
    "        10: 4,\n",
    "        11: 0, \n",
    "    }\n",
    "    chance=switcher.get(argument, 0)\n",
    "    k=random.randint(1,100)\n",
    "    if(k<=chance):\n",
    "        return True\n",
    "    else:\n",
    "        return False\n",
    "def cp_8_b_chance(argument): \n",
    "    switcher = { \n",
    "        2:100,\n",
    "        3:100,\n",
    "        4:100,\n",
    "        5:100,\n",
    "        6:100,\n",
    "        7: 95,\n",
    "        8: 65,\n",
    "        9: 25,\n",
    "        10: 5,\n",
    "        11: 0, \n",
    "    }\n",
    "    chance=switcher.get(argument, 0)\n",
    "    k=random.randint(1,100)\n",
    "    if(k<=chance):\n",
    "        return True\n",
    "    else:\n",
    "        return False\n",
    "def earn_12( cp):\n",
    "    a = random.randint(1,6) + random.randint(1,6)\n",
    "    if(cp==6):\n",
    "        if(cp_6_b_chance(a)):\n",
    "            a = random.randint(1,6) + random.randint(1,6)\n",
    "            if(a==12):\n",
    "                return earn_12(cp)\n",
    "            if(cp_6_chance(a)):\n",
    "                a = random.randint(1,6) + random.randint(1,6)\n",
    "                if(a==12):\n",
    "                    return earn_12(cp)\n",
    "                else:\n",
    "                    return a\n",
    "            else:\n",
    "                return a\n",
    "        else:\n",
    "            return a\n",
    "    if(cp==7):\n",
    "        if(cp_7_b_chance(a)):\n",
    "            a = random.randint(1,6) + random.randint(1,6)\n",
    "            if(a==12):\n",
    "                return earn_12(cp)\n",
    "            if(cp_7_chance(a)):\n",
    "                a =random.randint(1,6) + random.randint(1,6)\n",
    "                if(a==12):\n",
    "                    return earn_12(cp)\n",
    "                else:\n",
    "                    return a\n",
    "            else:\n",
    "                return a\n",
    "        else:\n",
    "            return a\n",
    "    if(cp==8):\n",
    "        if(cp_8_b_chance(a)):\n",
    "            a = random.randint(1,6) + random.randint(1,6)\n",
    "            if(a==12):\n",
    "                    return earn_12(cp)\n",
    "            if(cp_8_chance(a)):\n",
    "                a= random.randint(1,6) + random.randint(1,6)\n",
    "                if(a==12):\n",
    "                    return earn_12(cp)\n",
    "                else:\n",
    "                    return a\n",
    "            else:\n",
    "                return a\n",
    "        else:\n",
    "            return a\n",
    "            \n",
    "    \n",
    "    "
   ]
  },
  {
   "cell_type": "code",
   "execution_count": 159,
   "metadata": {},
   "outputs": [
    {
     "data": {
      "text/plain": [
       "-54.0"
      ]
     },
     "execution_count": 159,
     "metadata": {},
     "output_type": "execute_result"
    }
   ],
   "source": [
    "for x in range(100):\n",
    "    profit[x]=earn(array[x],8) - 8\n",
    "np.sum(profit)#cp=8"
   ]
  },
  {
   "cell_type": "code",
   "execution_count": 160,
   "metadata": {},
   "outputs": [
    {
     "data": {
      "text/plain": [
       "68.0"
      ]
     },
     "execution_count": 160,
     "metadata": {},
     "output_type": "execute_result"
    }
   ],
   "source": [
    "for x in range(100):\n",
    "    profit[x]=earn(array[x],7) - 7\n",
    "np.sum(profit)#cp=7"
   ]
  },
  {
   "cell_type": "code",
   "execution_count": 161,
   "metadata": {},
   "outputs": [
    {
     "data": {
      "text/plain": [
       "163.0"
      ]
     },
     "execution_count": 161,
     "metadata": {},
     "output_type": "execute_result"
    }
   ],
   "source": [
    "for x in range(100):\n",
    "    profit[x]=earn(array[x],6) - 6\n",
    "np.sum(profit)#cp=6"
   ]
  },
  {
   "cell_type": "code",
   "execution_count": 162,
   "metadata": {
    "scrolled": true
   },
   "outputs": [
    {
     "data": {
      "text/plain": [
       "163.0"
      ]
     },
     "execution_count": 162,
     "metadata": {},
     "output_type": "execute_result"
    }
   ],
   "source": [
    "np.sum(profit)#cp=8"
   ]
  },
  {
   "cell_type": "code",
   "execution_count": 163,
   "metadata": {},
   "outputs": [
    {
     "data": {
      "text/plain": [
       "163.0"
      ]
     },
     "execution_count": 163,
     "metadata": {},
     "output_type": "execute_result"
    }
   ],
   "source": [
    "np.sum(profit)#cp=8-2"
   ]
  },
  {
   "cell_type": "code",
   "execution_count": 164,
   "metadata": {},
   "outputs": [
    {
     "data": {
      "text/plain": [
       "163.0"
      ]
     },
     "execution_count": 164,
     "metadata": {},
     "output_type": "execute_result"
    }
   ],
   "source": [
    "np.sum(profit)#7-2"
   ]
  },
  {
   "cell_type": "code",
   "execution_count": 165,
   "metadata": {},
   "outputs": [
    {
     "data": {
      "text/plain": [
       "163.0"
      ]
     },
     "execution_count": 165,
     "metadata": {},
     "output_type": "execute_result"
    }
   ],
   "source": [
    "np.sum(profit)#cp=6-2"
   ]
  },
  {
   "cell_type": "code",
   "execution_count": null,
   "metadata": {},
   "outputs": [],
   "source": []
  }
 ],
 "metadata": {
  "kernelspec": {
   "display_name": "Python 3",
   "language": "python",
   "name": "python3"
  },
  "language_info": {
   "codemirror_mode": {
    "name": "ipython",
    "version": 3
   },
   "file_extension": ".py",
   "mimetype": "text/x-python",
   "name": "python",
   "nbconvert_exporter": "python",
   "pygments_lexer": "ipython3",
   "version": "3.6.7"
  }
 },
 "nbformat": 4,
 "nbformat_minor": 2
}
